{
  "nbformat": 4,
  "nbformat_minor": 0,
  "metadata": {
    "colab": {
      "provenance": []
    },
    "kernelspec": {
      "name": "python3",
      "display_name": "Python 3"
    },
    "language_info": {
      "name": "python"
    }
  },
  "cells": [
    {
      "cell_type": "code",
      "execution_count": 1,
      "metadata": {
        "id": "MeSI-dOZeFo7"
      },
      "outputs": [],
      "source": [
        "import torch\n",
        "import pandas as pd"
      ]
    },
    {
      "cell_type": "code",
      "source": [
        "data = pd.read_csv('/content/fmnist_small.csv')\n"
      ],
      "metadata": {
        "id": "PmAku069eiIl"
      },
      "execution_count": 2,
      "outputs": []
    },
    {
      "cell_type": "code",
      "source": [
        "data.head()\n",
        "data.dropna(inplace=True)"
      ],
      "metadata": {
        "id": "0EJtv946jA5B"
      },
      "execution_count": 34,
      "outputs": []
    },
    {
      "cell_type": "code",
      "source": [
        "from torch.utils.data import Dataset\n"
      ],
      "metadata": {
        "id": "CKHU-SBTjGfX"
      },
      "execution_count": 35,
      "outputs": []
    },
    {
      "cell_type": "code",
      "source": [
        "class CustomDataset(Dataset):\n",
        "  def __init__(self,features,labels):\n",
        "    self.features = torch.tensor(features,dtype=torch.float32)\n",
        "    self.labels = torch.tensor(labels,dtype=torch.long)\n",
        "\n",
        "  def __len__(self):\n",
        "    return len(self.features)\n",
        "\n",
        "  def __getitem__(self,idx):\n",
        "    return self.features[idx],self.labels[idx]\n",
        "\n"
      ],
      "metadata": {
        "id": "RqrufkGnlKQM"
      },
      "execution_count": 36,
      "outputs": []
    },
    {
      "cell_type": "code",
      "source": [
        "from sklearn.model_selection import train_test_split\n",
        "X_train,X_test,y_train,y_test = train_test_split(data.drop('label',axis=1),data['label'],test_size=0.2,random_state=42)\n",
        "X_train/=255.0\n",
        "X_test/=255.0\n"
      ],
      "metadata": {
        "id": "ZONNxtZQ1J6K"
      },
      "execution_count": 37,
      "outputs": []
    },
    {
      "cell_type": "code",
      "source": [
        "train_dataset = CustomDataset(X_train.values,y_train.values)\n",
        "test_dataset = CustomDataset(X_test.values,y_test.values)\n"
      ],
      "metadata": {
        "id": "tW-K7TkT1vGJ"
      },
      "execution_count": 38,
      "outputs": []
    },
    {
      "cell_type": "code",
      "source": [
        "from torch.utils.data import DataLoader\n",
        "train_loader = DataLoader(train_dataset,batch_size=32,shuffle=True)\n",
        "test_loader = DataLoader(test_dataset,batch_size=32, shuffle=True)\n"
      ],
      "metadata": {
        "id": "_I1J__jx2xkx"
      },
      "execution_count": 39,
      "outputs": []
    },
    {
      "cell_type": "code",
      "source": [
        "from torch import nn"
      ],
      "metadata": {
        "id": "rOBojtYbmQRX"
      },
      "execution_count": 40,
      "outputs": []
    },
    {
      "cell_type": "code",
      "source": [
        "class NeuralNetwork(nn.Module):\n",
        "  def __init__(self,num_features):\n",
        "    super().__init__()\n",
        "    self.model = nn.Sequential(\n",
        "        nn.Linear(num_features,128),\n",
        "        nn.ReLU(),\n",
        "        nn.Linear(128,64),\n",
        "        nn.ReLU(),\n",
        "        nn.Linear(64,10)\n",
        "    )\n",
        "\n",
        "  def forward(self,x):\n",
        "    return self.model(x)\n",
        "\n"
      ],
      "metadata": {
        "id": "J5ViJsEMzkHV"
      },
      "execution_count": 41,
      "outputs": []
    },
    {
      "cell_type": "code",
      "source": [
        "epochs = 100\n",
        "learning_rate = 0.1\n",
        "model = NeuralNetwork(X_train.shape[1])\n",
        "criterion = nn.CrossEntropyLoss()\n"
      ],
      "metadata": {
        "id": "YH0aZ-rQ3c1m"
      },
      "execution_count": 42,
      "outputs": []
    },
    {
      "cell_type": "code",
      "source": [
        "import torch.optim as optim\n",
        "\n",
        "optimizer = optim.SGD(model.parameters(),lr=learning_rate)\n"
      ],
      "metadata": {
        "id": "OqnRiK8F4QFP"
      },
      "execution_count": 43,
      "outputs": []
    },
    {
      "cell_type": "code",
      "source": [
        "for epoch in range(epochs):\n",
        "    total_loss = 0\n",
        "    for batch_features, batch_labels in train_loader:\n",
        "        outputs = model(batch_features)\n",
        "        loss = criterion(outputs, batch_labels)\n",
        "        optimizer.zero_grad()\n",
        "        loss.backward()\n",
        "        optimizer.step()\n",
        "\n",
        "        total_loss += loss.item()\n",
        "\n",
        "    avg_loss = total_loss / len(train_loader)\n",
        "    print(f\"Epoch {epoch}, Average Loss: {avg_loss:.4f}\")\n",
        "\n",
        "\n",
        ""
      ],
      "metadata": {
        "colab": {
          "base_uri": "https://localhost:8080/"
        },
        "id": "rSV4wzIC4fJc",
        "outputId": "34f1e8a9-f10d-4d39-bda1-49b2f006256d"
      },
      "execution_count": 45,
      "outputs": [
        {
          "output_type": "stream",
          "name": "stdout",
          "text": [
            "Epoch 0, Average Loss: 0.0449\n",
            "Epoch 1, Average Loss: 0.0299\n",
            "Epoch 2, Average Loss: 0.0299\n",
            "Epoch 3, Average Loss: 0.0245\n",
            "Epoch 4, Average Loss: 0.0247\n",
            "Epoch 5, Average Loss: 0.0315\n",
            "Epoch 6, Average Loss: 0.0214\n",
            "Epoch 7, Average Loss: 0.0264\n",
            "Epoch 8, Average Loss: 0.1103\n",
            "Epoch 9, Average Loss: 0.0615\n",
            "Epoch 10, Average Loss: 0.0552\n",
            "Epoch 11, Average Loss: 0.0233\n",
            "Epoch 12, Average Loss: 0.0186\n",
            "Epoch 13, Average Loss: 0.1782\n",
            "Epoch 14, Average Loss: 0.0467\n",
            "Epoch 15, Average Loss: 0.0344\n",
            "Epoch 16, Average Loss: 0.0209\n",
            "Epoch 17, Average Loss: 0.0174\n",
            "Epoch 18, Average Loss: 0.0191\n",
            "Epoch 19, Average Loss: 0.0204\n",
            "Epoch 20, Average Loss: 0.2235\n",
            "Epoch 21, Average Loss: 0.0173\n",
            "Epoch 22, Average Loss: 0.0173\n",
            "Epoch 23, Average Loss: 0.0154\n",
            "Epoch 24, Average Loss: 0.5047\n",
            "Epoch 25, Average Loss: 0.2453\n",
            "Epoch 26, Average Loss: 0.0590\n",
            "Epoch 27, Average Loss: 0.0452\n",
            "Epoch 28, Average Loss: 0.0408\n",
            "Epoch 29, Average Loss: 0.0208\n",
            "Epoch 30, Average Loss: 0.1107\n",
            "Epoch 31, Average Loss: 0.4098\n",
            "Epoch 32, Average Loss: 0.1315\n",
            "Epoch 33, Average Loss: 0.3800\n",
            "Epoch 34, Average Loss: 0.2098\n",
            "Epoch 35, Average Loss: 0.0771\n",
            "Epoch 36, Average Loss: 0.1545\n",
            "Epoch 37, Average Loss: 0.0499\n",
            "Epoch 38, Average Loss: 0.0371\n",
            "Epoch 39, Average Loss: 0.4562\n",
            "Epoch 40, Average Loss: 0.1293\n",
            "Epoch 41, Average Loss: 0.0621\n",
            "Epoch 42, Average Loss: 0.0470\n",
            "Epoch 43, Average Loss: 0.0632\n",
            "Epoch 44, Average Loss: 0.0263\n",
            "Epoch 45, Average Loss: 0.0844\n",
            "Epoch 46, Average Loss: 0.0294\n",
            "Epoch 47, Average Loss: 0.0185\n",
            "Epoch 48, Average Loss: 0.0171\n",
            "Epoch 49, Average Loss: 0.0160\n",
            "Epoch 50, Average Loss: 0.0457\n",
            "Epoch 51, Average Loss: 0.0120\n",
            "Epoch 52, Average Loss: 0.0092\n",
            "Epoch 53, Average Loss: 0.0104\n",
            "Epoch 54, Average Loss: 0.0099\n",
            "Epoch 55, Average Loss: 0.0088\n",
            "Epoch 56, Average Loss: 0.0078\n",
            "Epoch 57, Average Loss: 0.0077\n",
            "Epoch 58, Average Loss: 0.0069\n",
            "Epoch 59, Average Loss: 0.0063\n",
            "Epoch 60, Average Loss: 0.0061\n",
            "Epoch 61, Average Loss: 0.0061\n",
            "Epoch 62, Average Loss: 0.0052\n",
            "Epoch 63, Average Loss: 0.0050\n",
            "Epoch 64, Average Loss: 0.0045\n",
            "Epoch 65, Average Loss: 0.0050\n",
            "Epoch 66, Average Loss: 0.0044\n",
            "Epoch 67, Average Loss: 0.0041\n",
            "Epoch 68, Average Loss: 0.0048\n",
            "Epoch 69, Average Loss: 0.0042\n",
            "Epoch 70, Average Loss: 0.0039\n",
            "Epoch 71, Average Loss: 0.0034\n",
            "Epoch 72, Average Loss: 0.0033\n",
            "Epoch 73, Average Loss: 0.0035\n",
            "Epoch 74, Average Loss: 0.0032\n",
            "Epoch 75, Average Loss: 0.0030\n",
            "Epoch 76, Average Loss: 0.0030\n",
            "Epoch 77, Average Loss: 0.0029\n",
            "Epoch 78, Average Loss: 0.0028\n",
            "Epoch 79, Average Loss: 0.0027\n",
            "Epoch 80, Average Loss: 0.0026\n",
            "Epoch 81, Average Loss: 0.0025\n",
            "Epoch 82, Average Loss: 0.0025\n",
            "Epoch 83, Average Loss: 0.0023\n",
            "Epoch 84, Average Loss: 0.0024\n",
            "Epoch 85, Average Loss: 0.0024\n",
            "Epoch 86, Average Loss: 0.0023\n",
            "Epoch 87, Average Loss: 0.0022\n",
            "Epoch 88, Average Loss: 0.0021\n",
            "Epoch 89, Average Loss: 0.0021\n",
            "Epoch 90, Average Loss: 0.0020\n",
            "Epoch 91, Average Loss: 0.0020\n",
            "Epoch 92, Average Loss: 0.0020\n",
            "Epoch 93, Average Loss: 0.0019\n",
            "Epoch 94, Average Loss: 0.0019\n",
            "Epoch 95, Average Loss: 0.0019\n",
            "Epoch 96, Average Loss: 0.0018\n",
            "Epoch 97, Average Loss: 0.0018\n",
            "Epoch 98, Average Loss: 0.0017\n",
            "Epoch 99, Average Loss: 0.0017\n"
          ]
        }
      ]
    },
    {
      "cell_type": "code",
      "source": [
        "model.eval()"
      ],
      "metadata": {
        "colab": {
          "base_uri": "https://localhost:8080/"
        },
        "id": "aQ5-gUCo6QVv",
        "outputId": "312aca38-7777-49cf-add7-853a82db7c7a"
      },
      "execution_count": 46,
      "outputs": [
        {
          "output_type": "execute_result",
          "data": {
            "text/plain": [
              "NeuralNetwork(\n",
              "  (model): Sequential(\n",
              "    (0): Linear(in_features=784, out_features=128, bias=True)\n",
              "    (1): ReLU()\n",
              "    (2): Linear(in_features=128, out_features=64, bias=True)\n",
              "    (3): ReLU()\n",
              "    (4): Linear(in_features=64, out_features=10, bias=True)\n",
              "  )\n",
              ")"
            ]
          },
          "metadata": {},
          "execution_count": 46
        }
      ]
    },
    {
      "cell_type": "code",
      "source": [
        "total = 0\n",
        "correct = 0\n",
        "with torch.no_grad():\n",
        "    for batch_features, batch_labels in test_loader:\n",
        "        outputs = model(batch_features)\n",
        "        _, predicted = torch.max(outputs, 1)\n",
        "        total += batch_labels.shape[0]\n",
        "        correct += (predicted == batch_labels).sum().item()\n",
        "\n",
        "accuracy = correct / total\n",
        "print(f\"Accuracy:{accuracy*100:.2f}%\")"
      ],
      "metadata": {
        "colab": {
          "base_uri": "https://localhost:8080/"
        },
        "id": "fzGvnoA9AdD5",
        "outputId": "ff241617-ec89-4d18-c9db-6fa1a4176e12"
      },
      "execution_count": 53,
      "outputs": [
        {
          "output_type": "stream",
          "name": "stdout",
          "text": [
            "Accuracy:82.27%\n"
          ]
        }
      ]
    }
  ]
}